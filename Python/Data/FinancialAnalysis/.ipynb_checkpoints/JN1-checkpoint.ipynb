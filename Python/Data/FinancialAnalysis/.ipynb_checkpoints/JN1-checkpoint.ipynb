{
 "cells": [
  {
   "cell_type": "code",
   "execution_count": 1,
   "id": "e26e4909-2453-4e5c-bd0a-0797e9749973",
   "metadata": {},
   "outputs": [],
   "source": [
    "import pandas as pd"
   ]
  },
  {
   "cell_type": "code",
   "execution_count": 5,
   "id": "5d6e1186-3c37-475d-a26c-3c1566307b71",
   "metadata": {},
   "outputs": [],
   "source": [
    "# index is set on the first column\n",
    "fb = pd.read_csv('Documents/dev/pyforfinancialanalysis/data/facebook.csv', index_col=0)"
   ]
  },
  {
   "cell_type": "code",
   "execution_count": 6,
   "id": "46fc371d-ccdd-4f2b-810f-2cf18b962b8a",
   "metadata": {},
   "outputs": [],
   "source": [
    "ms = pd.read_csv('Documents/dev/pyforfinancialanalysis/data/microsoft.csv', index_col=0)"
   ]
  },
  {
   "cell_type": "code",
   "execution_count": 7,
   "id": "6a31b6dd-d806-4349-a043-6a87b25f57a4",
   "metadata": {},
   "outputs": [
    {
     "name": "stdout",
     "output_type": "stream",
     "text": [
      "46.73\n"
     ]
    }
   ],
   "source": [
    "# check that data is imported\n",
    "print(ms.iloc[0, 0])"
   ]
  },
  {
   "cell_type": "code",
   "execution_count": null,
   "id": "f34bd629-cd7c-46f7-b6ec-af54d9993418",
   "metadata": {},
   "outputs": [],
   "source": []
  }
 ],
 "metadata": {
  "kernelspec": {
   "display_name": "Python 3 (ipykernel)",
   "language": "python",
   "name": "python3"
  },
  "language_info": {
   "codemirror_mode": {
    "name": "ipython",
    "version": 3
   },
   "file_extension": ".py",
   "mimetype": "text/x-python",
   "name": "python",
   "nbconvert_exporter": "python",
   "pygments_lexer": "ipython3",
   "version": "3.10.5"
  }
 },
 "nbformat": 4,
 "nbformat_minor": 5
}
