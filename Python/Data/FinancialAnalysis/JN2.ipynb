{
 "cells": [
  {
   "cell_type": "code",
   "execution_count": 29,
   "id": "812a9952-2d66-4d85-90f5-5c43272903bd",
   "metadata": {},
   "outputs": [],
   "source": [
    "import pandas as pd\n",
    "import matplotlib.pyplot as plt\n",
    "%matplotlib inline"
   ]
  },
  {
   "cell_type": "code",
   "execution_count": 30,
   "id": "b0863e5e-6961-45e8-89bc-8b5250420431",
   "metadata": {},
   "outputs": [],
   "source": [
    "fbData = pd.read_csv('data/facebook.csv')"
   ]
  },
  {
   "cell_type": "code",
   "execution_count": 31,
   "id": "b17c36a5-f1a5-414d-be57-59267d6241fc",
   "metadata": {},
   "outputs": [
    {
     "name": "stdout",
     "output_type": "stream",
     "text": [
      "         Date       Open       High        Low      Close  Adj Close   Volume\n",
      "0  2014-12-31  20.400000  20.510000  19.990000  20.049999  19.459270  4157500\n",
      "1  2015-01-02  20.129999  20.280001  19.809999  20.129999  19.536913  2842000\n",
      "2  2015-01-05  20.129999  20.190001  19.700001  19.790001  19.206934  4948800\n",
      "3  2015-01-06  19.820000  19.840000  19.170000  19.190001  18.624611  4944100\n",
      "4  2015-01-07  19.330000  19.500000  19.080000  19.139999  18.576082  8045200\n"
     ]
    }
   ],
   "source": [
    "print(fbData.head()) #print the first 5 lines"
   ]
  },
  {
   "cell_type": "code",
   "execution_count": 6,
   "id": "82e29f52-5008-4c1c-8c52-b9d05f3cca4e",
   "metadata": {},
   "outputs": [],
   "source": [
    "msData = pd.read_csv('data/microsoft.csv')"
   ]
  },
  {
   "cell_type": "code",
   "execution_count": 7,
   "id": "696c4d06-18ca-467d-b63d-5b19a4154d4c",
   "metadata": {},
   "outputs": [
    {
     "name": "stdout",
     "output_type": "stream",
     "text": [
      "         Date       Open       High        Low      Close  Adj Close    Volume\n",
      "0  2014-12-31  46.730000  47.439999  46.450001  46.450001  42.848763  21552500\n",
      "1  2015-01-02  46.660000  47.419998  46.540001  46.759998  43.134731  27913900\n",
      "2  2015-01-05  46.369999  46.730000  46.250000  46.330002  42.738068  39673900\n",
      "3  2015-01-06  46.380001  46.750000  45.540001  45.650002  42.110783  36447900\n",
      "4  2015-01-07  45.980000  46.459999  45.490002  46.230000  42.645817  29114100\n"
     ]
    }
   ],
   "source": [
    "print(msData.head())"
   ]
  },
  {
   "cell_type": "code",
   "execution_count": 13,
   "id": "aaf2e354-98e2-4a2f-80c4-fdfc9e15765b",
   "metadata": {},
   "outputs": [
    {
     "data": {
      "text/plain": [
       "RangeIndex(start=0, stop=780, step=1)"
      ]
     },
     "execution_count": 13,
     "metadata": {},
     "output_type": "execute_result"
    }
   ],
   "source": [
    "fbData.index"
   ]
  },
  {
   "cell_type": "code",
   "execution_count": 14,
   "id": "3e684629-c9ab-4e7d-b174-ce3bb17562be",
   "metadata": {},
   "outputs": [
    {
     "data": {
      "text/plain": [
       "0"
      ]
     },
     "execution_count": 14,
     "metadata": {},
     "output_type": "execute_result"
    }
   ],
   "source": [
    "fbData.index[0] #first index"
   ]
  },
  {
   "cell_type": "code",
   "execution_count": 16,
   "id": "b5743e22-2903-4c57-953a-b19547667da8",
   "metadata": {},
   "outputs": [
    {
     "data": {
      "text/plain": [
       "779"
      ]
     },
     "execution_count": 16,
     "metadata": {},
     "output_type": "execute_result"
    }
   ],
   "source": [
    "fbData.index[-1] #last index"
   ]
  },
  {
   "cell_type": "code",
   "execution_count": 18,
   "id": "53b10006-a9a5-4c14-8f32-d13160ea8042",
   "metadata": {},
   "outputs": [
    {
     "data": {
      "text/plain": [
       "Index(['Date', 'Open', 'High', 'Low', 'Close', 'Adj Close', 'Volume'], dtype='object')"
      ]
     },
     "execution_count": 18,
     "metadata": {},
     "output_type": "execute_result"
    }
   ],
   "source": [
    "fbData.columns #columns titles"
   ]
  },
  {
   "cell_type": "code",
   "execution_count": 21,
   "id": "3c09680e-fab0-4dc8-8380-3af3685252ab",
   "metadata": {},
   "outputs": [
    {
     "data": {
      "text/html": [
       "<div>\n",
       "<style scoped>\n",
       "    .dataframe tbody tr th:only-of-type {\n",
       "        vertical-align: middle;\n",
       "    }\n",
       "\n",
       "    .dataframe tbody tr th {\n",
       "        vertical-align: top;\n",
       "    }\n",
       "\n",
       "    .dataframe thead th {\n",
       "        text-align: right;\n",
       "    }\n",
       "</style>\n",
       "<table border=\"1\" class=\"dataframe\">\n",
       "  <thead>\n",
       "    <tr style=\"text-align: right;\">\n",
       "      <th></th>\n",
       "      <th>Date</th>\n",
       "      <th>Open</th>\n",
       "      <th>High</th>\n",
       "      <th>Low</th>\n",
       "      <th>Close</th>\n",
       "      <th>Adj Close</th>\n",
       "      <th>Volume</th>\n",
       "    </tr>\n",
       "  </thead>\n",
       "  <tbody>\n",
       "    <tr>\n",
       "      <th>775</th>\n",
       "      <td>2018-01-30</td>\n",
       "      <td>241.110001</td>\n",
       "      <td>246.419998</td>\n",
       "      <td>238.410004</td>\n",
       "      <td>242.720001</td>\n",
       "      <td>242.720001</td>\n",
       "      <td>14270800</td>\n",
       "    </tr>\n",
       "    <tr>\n",
       "      <th>776</th>\n",
       "      <td>2018-01-31</td>\n",
       "      <td>245.770004</td>\n",
       "      <td>249.270004</td>\n",
       "      <td>244.449997</td>\n",
       "      <td>245.800003</td>\n",
       "      <td>245.800003</td>\n",
       "      <td>11964400</td>\n",
       "    </tr>\n",
       "    <tr>\n",
       "      <th>777</th>\n",
       "      <td>2018-02-01</td>\n",
       "      <td>238.520004</td>\n",
       "      <td>246.899994</td>\n",
       "      <td>238.059998</td>\n",
       "      <td>240.500000</td>\n",
       "      <td>240.500000</td>\n",
       "      <td>12980600</td>\n",
       "    </tr>\n",
       "    <tr>\n",
       "      <th>778</th>\n",
       "      <td>2018-02-02</td>\n",
       "      <td>237.000000</td>\n",
       "      <td>237.970001</td>\n",
       "      <td>231.169998</td>\n",
       "      <td>233.520004</td>\n",
       "      <td>233.520004</td>\n",
       "      <td>17961600</td>\n",
       "    </tr>\n",
       "    <tr>\n",
       "      <th>779</th>\n",
       "      <td>2018-02-05</td>\n",
       "      <td>227.000000</td>\n",
       "      <td>233.229996</td>\n",
       "      <td>205.000000</td>\n",
       "      <td>213.699997</td>\n",
       "      <td>213.699997</td>\n",
       "      <td>28869000</td>\n",
       "    </tr>\n",
       "  </tbody>\n",
       "</table>\n",
       "</div>"
      ],
      "text/plain": [
       "           Date        Open        High         Low       Close   Adj Close  \\\n",
       "775  2018-01-30  241.110001  246.419998  238.410004  242.720001  242.720001   \n",
       "776  2018-01-31  245.770004  249.270004  244.449997  245.800003  245.800003   \n",
       "777  2018-02-01  238.520004  246.899994  238.059998  240.500000  240.500000   \n",
       "778  2018-02-02  237.000000  237.970001  231.169998  233.520004  233.520004   \n",
       "779  2018-02-05  227.000000  233.229996  205.000000  213.699997  213.699997   \n",
       "\n",
       "       Volume  \n",
       "775  14270800  \n",
       "776  11964400  \n",
       "777  12980600  \n",
       "778  17961600  \n",
       "779  28869000  "
      ]
     },
     "execution_count": 21,
     "metadata": {},
     "output_type": "execute_result"
    }
   ],
   "source": [
    "fbData.tail() #last 5 rows"
   ]
  },
  {
   "cell_type": "code",
   "execution_count": 23,
   "id": "98c9d9e0-e4e8-475d-bb42-41bddc1d865f",
   "metadata": {},
   "outputs": [
    {
     "data": {
      "text/html": [
       "<div>\n",
       "<style scoped>\n",
       "    .dataframe tbody tr th:only-of-type {\n",
       "        vertical-align: middle;\n",
       "    }\n",
       "\n",
       "    .dataframe tbody tr th {\n",
       "        vertical-align: top;\n",
       "    }\n",
       "\n",
       "    .dataframe thead th {\n",
       "        text-align: right;\n",
       "    }\n",
       "</style>\n",
       "<table border=\"1\" class=\"dataframe\">\n",
       "  <thead>\n",
       "    <tr style=\"text-align: right;\">\n",
       "      <th></th>\n",
       "      <th>Date</th>\n",
       "      <th>Open</th>\n",
       "      <th>High</th>\n",
       "      <th>Low</th>\n",
       "      <th>Close</th>\n",
       "      <th>Adj Close</th>\n",
       "      <th>Volume</th>\n",
       "    </tr>\n",
       "  </thead>\n",
       "  <tbody>\n",
       "    <tr>\n",
       "      <th>770</th>\n",
       "      <td>2018-01-23</td>\n",
       "      <td>235.850006</td>\n",
       "      <td>239.830002</td>\n",
       "      <td>235.100006</td>\n",
       "      <td>238.910004</td>\n",
       "      <td>238.910004</td>\n",
       "      <td>11880700</td>\n",
       "    </tr>\n",
       "    <tr>\n",
       "      <th>771</th>\n",
       "      <td>2018-01-24</td>\n",
       "      <td>239.039993</td>\n",
       "      <td>240.490005</td>\n",
       "      <td>233.550003</td>\n",
       "      <td>235.800003</td>\n",
       "      <td>235.800003</td>\n",
       "      <td>14499300</td>\n",
       "    </tr>\n",
       "    <tr>\n",
       "      <th>772</th>\n",
       "      <td>2018-01-25</td>\n",
       "      <td>238.000000</td>\n",
       "      <td>239.750000</td>\n",
       "      <td>235.750000</td>\n",
       "      <td>236.350006</td>\n",
       "      <td>236.350006</td>\n",
       "      <td>10247100</td>\n",
       "    </tr>\n",
       "    <tr>\n",
       "      <th>773</th>\n",
       "      <td>2018-01-26</td>\n",
       "      <td>238.119995</td>\n",
       "      <td>243.339996</td>\n",
       "      <td>237.600006</td>\n",
       "      <td>243.330002</td>\n",
       "      <td>243.330002</td>\n",
       "      <td>12908900</td>\n",
       "    </tr>\n",
       "    <tr>\n",
       "      <th>774</th>\n",
       "      <td>2018-01-29</td>\n",
       "      <td>242.740005</td>\n",
       "      <td>248.110001</td>\n",
       "      <td>240.610001</td>\n",
       "      <td>246.850006</td>\n",
       "      <td>246.850006</td>\n",
       "      <td>11377900</td>\n",
       "    </tr>\n",
       "    <tr>\n",
       "      <th>775</th>\n",
       "      <td>2018-01-30</td>\n",
       "      <td>241.110001</td>\n",
       "      <td>246.419998</td>\n",
       "      <td>238.410004</td>\n",
       "      <td>242.720001</td>\n",
       "      <td>242.720001</td>\n",
       "      <td>14270800</td>\n",
       "    </tr>\n",
       "    <tr>\n",
       "      <th>776</th>\n",
       "      <td>2018-01-31</td>\n",
       "      <td>245.770004</td>\n",
       "      <td>249.270004</td>\n",
       "      <td>244.449997</td>\n",
       "      <td>245.800003</td>\n",
       "      <td>245.800003</td>\n",
       "      <td>11964400</td>\n",
       "    </tr>\n",
       "    <tr>\n",
       "      <th>777</th>\n",
       "      <td>2018-02-01</td>\n",
       "      <td>238.520004</td>\n",
       "      <td>246.899994</td>\n",
       "      <td>238.059998</td>\n",
       "      <td>240.500000</td>\n",
       "      <td>240.500000</td>\n",
       "      <td>12980600</td>\n",
       "    </tr>\n",
       "    <tr>\n",
       "      <th>778</th>\n",
       "      <td>2018-02-02</td>\n",
       "      <td>237.000000</td>\n",
       "      <td>237.970001</td>\n",
       "      <td>231.169998</td>\n",
       "      <td>233.520004</td>\n",
       "      <td>233.520004</td>\n",
       "      <td>17961600</td>\n",
       "    </tr>\n",
       "    <tr>\n",
       "      <th>779</th>\n",
       "      <td>2018-02-05</td>\n",
       "      <td>227.000000</td>\n",
       "      <td>233.229996</td>\n",
       "      <td>205.000000</td>\n",
       "      <td>213.699997</td>\n",
       "      <td>213.699997</td>\n",
       "      <td>28869000</td>\n",
       "    </tr>\n",
       "  </tbody>\n",
       "</table>\n",
       "</div>"
      ],
      "text/plain": [
       "           Date        Open        High         Low       Close   Adj Close  \\\n",
       "770  2018-01-23  235.850006  239.830002  235.100006  238.910004  238.910004   \n",
       "771  2018-01-24  239.039993  240.490005  233.550003  235.800003  235.800003   \n",
       "772  2018-01-25  238.000000  239.750000  235.750000  236.350006  236.350006   \n",
       "773  2018-01-26  238.119995  243.339996  237.600006  243.330002  243.330002   \n",
       "774  2018-01-29  242.740005  248.110001  240.610001  246.850006  246.850006   \n",
       "775  2018-01-30  241.110001  246.419998  238.410004  242.720001  242.720001   \n",
       "776  2018-01-31  245.770004  249.270004  244.449997  245.800003  245.800003   \n",
       "777  2018-02-01  238.520004  246.899994  238.059998  240.500000  240.500000   \n",
       "778  2018-02-02  237.000000  237.970001  231.169998  233.520004  233.520004   \n",
       "779  2018-02-05  227.000000  233.229996  205.000000  213.699997  213.699997   \n",
       "\n",
       "       Volume  \n",
       "770  11880700  \n",
       "771  14499300  \n",
       "772  10247100  \n",
       "773  12908900  \n",
       "774  11377900  \n",
       "775  14270800  \n",
       "776  11964400  \n",
       "777  12980600  \n",
       "778  17961600  \n",
       "779  28869000  "
      ]
     },
     "execution_count": 23,
     "metadata": {},
     "output_type": "execute_result"
    }
   ],
   "source": [
    "fbData.tail(10) #use argument to print the last X rows, here 10"
   ]
  },
  {
   "cell_type": "code",
   "execution_count": 10,
   "id": "89aa56a7-3e6a-4f5d-a36e-5e87740f8d1f",
   "metadata": {},
   "outputs": [
    {
     "name": "stdout",
     "output_type": "stream",
     "text": [
      "(780, 7)\n"
     ]
    }
   ],
   "source": [
    "print(fbData.shape) #print the size of the DataFrame"
   ]
  },
  {
   "cell_type": "code",
   "execution_count": 19,
   "id": "3cbb8e95-d19a-4608-bf67-8cd8eed03fc9",
   "metadata": {},
   "outputs": [
    {
     "name": "stdout",
     "output_type": "stream",
     "text": [
      "(780, 7)\n"
     ]
    }
   ],
   "source": [
    "print(msData.shape) #number of rows and columns"
   ]
  },
  {
   "cell_type": "code",
   "execution_count": 12,
   "id": "4173e258-002c-431a-bd63-e0705f14d506",
   "metadata": {},
   "outputs": [
    {
     "name": "stdout",
     "output_type": "stream",
     "text": [
      "             Open        High         Low       Close   Adj Close  \\\n",
      "count  780.000000  780.000000  780.000000  780.000000  780.000000   \n",
      "mean    80.212705   81.285654   79.022397   80.264897   79.914215   \n",
      "std     64.226121   65.048907   63.190963   64.198375   64.327846   \n",
      "min     19.250000   19.500000   18.940001   19.139999   18.576082   \n",
      "25%     25.525000   26.085000   24.845000   25.475000   25.134512   \n",
      "50%     53.379999   54.034999   52.930000   53.420000   53.035403   \n",
      "75%    113.322502  115.779999  110.297499  113.702501  113.261238   \n",
      "max    245.770004  249.270004  244.449997  246.850006  246.850006   \n",
      "\n",
      "             Volume  \n",
      "count  7.800000e+02  \n",
      "mean   1.204453e+07  \n",
      "std    8.221848e+06  \n",
      "min    1.311200e+06  \n",
      "25%    7.215200e+06  \n",
      "50%    9.728700e+06  \n",
      "75%    1.408885e+07  \n",
      "max    9.232320e+07  \n"
     ]
    }
   ],
   "source": [
    "print(fbData.describe()) #print summary statistics of Facebook data"
   ]
  },
  {
   "cell_type": "code",
   "execution_count": 38,
   "id": "8d330f39-7163-4345-9d25-5f3ce065e61b",
   "metadata": {},
   "outputs": [
    {
     "data": {
      "text/plain": [
       "0       20.049999\n",
       "1       20.129999\n",
       "2       19.790001\n",
       "3       19.190001\n",
       "4       19.139999\n",
       "          ...    \n",
       "775    242.720001\n",
       "776    245.800003\n",
       "777    240.500000\n",
       "778    233.520004\n",
       "779    213.699997\n",
       "Name: Close, Length: 780, dtype: float64"
      ]
     },
     "execution_count": 38,
     "metadata": {},
     "output_type": "execute_result"
    }
   ],
   "source": [
    "#print all close prices\n",
    "fbData.loc[:, 'Close']"
   ]
  },
  {
   "cell_type": "code",
   "execution_count": 40,
   "id": "9663b03a-352c-4910-8604-ba94b78c72db",
   "metadata": {},
   "outputs": [
    {
     "data": {
      "text/plain": [
       "0       20.049999\n",
       "1       20.129999\n",
       "2       19.790001\n",
       "3       19.190001\n",
       "4       19.139999\n",
       "          ...    \n",
       "775    242.720001\n",
       "776    245.800003\n",
       "777    240.500000\n",
       "778    233.520004\n",
       "779    213.699997\n",
       "Name: Close, Length: 780, dtype: float64"
      ]
     },
     "execution_count": 40,
     "metadata": {},
     "output_type": "execute_result"
    }
   ],
   "source": [
    "fbData['Close'] #same as previously"
   ]
  },
  {
   "cell_type": "code",
   "execution_count": 43,
   "id": "cc57bf9a-8f19-4543-bf7a-71cc52e720b0",
   "metadata": {},
   "outputs": [
    {
     "data": {
      "text/plain": [
       "Date         2015-01-07\n",
       "Open              19.33\n",
       "High               19.5\n",
       "Low               19.08\n",
       "Close         19.139999\n",
       "Adj Close     18.576082\n",
       "Volume          8045200\n",
       "Name: 4, dtype: object"
      ]
     },
     "execution_count": 43,
     "metadata": {},
     "output_type": "execute_result"
    }
   ],
   "source": [
    "fbData.loc[4] #print the 4th value"
   ]
  },
  {
   "cell_type": "code",
   "execution_count": 48,
   "id": "e837b24b-b015-4daf-864f-69cc64d27aab",
   "metadata": {},
   "outputs": [
    {
     "data": {
      "text/plain": [
       "1    20.129999\n",
       "Name: Close, dtype: float64"
      ]
     },
     "execution_count": 48,
     "metadata": {},
     "output_type": "execute_result"
    }
   ],
   "source": [
    "#print the close price of 2015-01-02\n",
    "fbData.loc[fbData['Date'] == '2015-01-02', 'Close']"
   ]
  },
  {
   "cell_type": "code",
   "execution_count": 51,
   "id": "db8f271d-632f-4e4a-b99d-ed82c2ecf56f",
   "metadata": {},
   "outputs": [
    {
     "data": {
      "text/plain": [
       "19.809999"
      ]
     },
     "execution_count": 51,
     "metadata": {},
     "output_type": "execute_result"
    }
   ],
   "source": [
    "#filter by position using iloc\n",
    "fbData.iloc[1, 3] #where 1 is row and 3 is column"
   ]
  },
  {
   "cell_type": "code",
   "execution_count": 72,
   "id": "66dcb5fd-fe59-4984-a37e-e4b87c26df7d",
   "metadata": {},
   "outputs": [
    {
     "name": "stdout",
     "output_type": "stream",
     "text": [
      "1      20.129999\n",
      "2      19.790001\n",
      "3      19.190001\n",
      "4      19.139999\n",
      "5      19.860001\n",
      "         ...    \n",
      "248    33.169998\n",
      "249    33.139999\n",
      "250    33.680000\n",
      "251    33.389999\n",
      "252    32.959999\n",
      "Name: Close, Length: 252, dtype: float64\n"
     ]
    }
   ],
   "source": [
    "#print close prices for 2015\n",
    "start_date = '2015-01-01'\n",
    "end_date = '2015-12-31'\n",
    "data_2015 = fbData.loc[fbData['Date'].between(start_date, end_date)]\n",
    "print(data_2015['Close'])"
   ]
  },
  {
   "cell_type": "code",
   "execution_count": 79,
   "id": "d72a8496-d01a-436d-bcc9-5f30b678bff7",
   "metadata": {},
   "outputs": [
    {
     "data": {
      "text/html": [
       "<div>\n",
       "<style scoped>\n",
       "    .dataframe tbody tr th:only-of-type {\n",
       "        vertical-align: middle;\n",
       "    }\n",
       "\n",
       "    .dataframe tbody tr th {\n",
       "        vertical-align: top;\n",
       "    }\n",
       "\n",
       "    .dataframe thead th {\n",
       "        text-align: right;\n",
       "    }\n",
       "</style>\n",
       "<table border=\"1\" class=\"dataframe\">\n",
       "  <thead>\n",
       "    <tr style=\"text-align: right;\">\n",
       "      <th></th>\n",
       "      <th>Date</th>\n",
       "      <th>Open</th>\n",
       "      <th>High</th>\n",
       "      <th>Low</th>\n",
       "      <th>Close</th>\n",
       "      <th>Adj Close</th>\n",
       "      <th>Volume</th>\n",
       "    </tr>\n",
       "  </thead>\n",
       "  <tbody>\n",
       "    <tr>\n",
       "      <th>50</th>\n",
       "      <td>2015-03-16</td>\n",
       "      <td>22.879999</td>\n",
       "      <td>23.110001</td>\n",
       "      <td>22.73</td>\n",
       "      <td>22.969999</td>\n",
       "      <td>22.379078</td>\n",
       "      <td>5923900</td>\n",
       "    </tr>\n",
       "  </tbody>\n",
       "</table>\n",
       "</div>"
      ],
      "text/plain": [
       "          Date       Open       High    Low      Close  Adj Close   Volume\n",
       "50  2015-03-16  22.879999  23.110001  22.73  22.969999  22.379078  5923900"
      ]
     },
     "execution_count": 79,
     "metadata": {},
     "output_type": "execute_result"
    }
   ],
   "source": [
    "#print the prices of Facebook on '2015-03-16'\n",
    "fbData.loc[fbData['Date'] == '2015-03-16']"
   ]
  },
  {
   "cell_type": "code",
   "execution_count": 84,
   "id": "7f4adadc-6927-45e8-854f-a83ac15141d6",
   "metadata": {},
   "outputs": [
    {
     "name": "stdout",
     "output_type": "stream",
     "text": [
      "           Date       Open       High        Low      Close  Adj Close  \\\n",
      "253  2016-01-04  54.320000  54.799999  53.389999  54.799999  51.927593   \n",
      "254  2016-01-05  54.930000  55.389999  54.540001  55.049999  52.164490   \n",
      "255  2016-01-06  54.320000  54.400002  53.639999  54.049999  51.216900   \n",
      "256  2016-01-07  52.700001  53.490002  52.070000  52.169998  49.435444   \n",
      "257  2016-01-08  52.369999  53.279999  52.150002  52.330002  49.587063   \n",
      "..          ...        ...        ...        ...        ...        ...   \n",
      "500  2016-12-23  63.450001  63.540001  62.799999  63.240002  61.569557   \n",
      "501  2016-12-27  63.209999  64.070000  63.209999  63.279999  61.608490   \n",
      "502  2016-12-28  63.400002  63.400002  62.830002  62.990002  61.326157   \n",
      "503  2016-12-29  62.860001  63.200001  62.730000  62.900002  61.238541   \n",
      "504  2016-12-30  62.959999  62.990002  62.029999  62.139999  60.498604   \n",
      "\n",
      "       Volume  \n",
      "253  53778000  \n",
      "254  34079700  \n",
      "255  39518900  \n",
      "256  56564900  \n",
      "257  48754000  \n",
      "..        ...  \n",
      "500  12398000  \n",
      "501  11763200  \n",
      "502  14653300  \n",
      "503  10181600  \n",
      "504  25579900  \n",
      "\n",
      "[252 rows x 7 columns]\n"
     ]
    }
   ],
   "source": [
    "#select all the priuce information of Microsoft in 2016\n",
    "start_date = '2016-01-01'\n",
    "end_date = '2016-12-31'\n",
    "ms_2016 = msData.loc[msData['Date'].between(start_date, end_date)]\n",
    "print(ms_2016)"
   ]
  },
  {
   "cell_type": "code",
   "execution_count": 85,
   "id": "246e206a-4b59-4977-ad85-1bf18ff985c1",
   "metadata": {},
   "outputs": [
    {
     "data": {
      "text/html": [
       "<div>\n",
       "<style scoped>\n",
       "    .dataframe tbody tr th:only-of-type {\n",
       "        vertical-align: middle;\n",
       "    }\n",
       "\n",
       "    .dataframe tbody tr th {\n",
       "        vertical-align: top;\n",
       "    }\n",
       "\n",
       "    .dataframe thead th {\n",
       "        text-align: right;\n",
       "    }\n",
       "</style>\n",
       "<table border=\"1\" class=\"dataframe\">\n",
       "  <thead>\n",
       "    <tr style=\"text-align: right;\">\n",
       "      <th></th>\n",
       "      <th>Date</th>\n",
       "      <th>Open</th>\n",
       "      <th>High</th>\n",
       "      <th>Low</th>\n",
       "      <th>Close</th>\n",
       "      <th>Adj Close</th>\n",
       "      <th>Volume</th>\n",
       "    </tr>\n",
       "  </thead>\n",
       "  <tbody>\n",
       "    <tr>\n",
       "      <th>303</th>\n",
       "      <td>2016-03-16</td>\n",
       "      <td>53.450001</td>\n",
       "      <td>54.599998</td>\n",
       "      <td>53.400002</td>\n",
       "      <td>54.349998</td>\n",
       "      <td>51.870949</td>\n",
       "      <td>31691700</td>\n",
       "    </tr>\n",
       "  </tbody>\n",
       "</table>\n",
       "</div>"
      ],
      "text/plain": [
       "           Date       Open       High        Low      Close  Adj Close  \\\n",
       "303  2016-03-16  53.450001  54.599998  53.400002  54.349998  51.870949   \n",
       "\n",
       "       Volume  \n",
       "303  31691700  "
      ]
     },
     "execution_count": 85,
     "metadata": {},
     "output_type": "execute_result"
    }
   ],
   "source": [
    "#print the prices of Microsoft on '2016-03-16'\n",
    "msData.loc[msData['Date'] == '2016-03-16']"
   ]
  },
  {
   "cell_type": "code",
   "execution_count": 87,
   "id": "6b321013-4da4-49d6-8059-4c82abdb9658",
   "metadata": {},
   "outputs": [
    {
     "name": "stdout",
     "output_type": "stream",
     "text": [
      "20.4\n"
     ]
    }
   ],
   "source": [
    "#print opening price of the first row\n",
    "print(fbData.iloc[0,1])"
   ]
  },
  {
   "cell_type": "code",
   "execution_count": 92,
   "id": "3e5aa506-a7dc-4f18-b137-cb4459cdc892",
   "metadata": {},
   "outputs": [
    {
     "name": "stdout",
     "output_type": "stream",
     "text": [
      "227.0\n",
      "           Date   Open        High    Low       Close   Adj Close    Volume\n",
      "779  2018-02-05  227.0  233.229996  205.0  213.699997  213.699997  28869000\n"
     ]
    }
   ],
   "source": [
    "#print opening price of the last row\n",
    "print(fbData.iloc[-1, 1])\n",
    "\n",
    "#check if correct\n",
    "print(fbData.tail(1))"
   ]
  },
  {
   "cell_type": "code",
   "execution_count": 95,
   "id": "fe78617f-e0fb-480c-8197-109e889a294b",
   "metadata": {},
   "outputs": [
    {
     "data": {
      "image/png": "[encoded data removed]",
      "text/plain": [
       "<Figure size 500x500 with 1 Axes>"
      ]
     },
     "metadata": {},
     "output_type": "display_data"
    }
   ],
   "source": [
    "#plot the stock data\n",
    "plt.figure(figsize=(5, 5))\n",
    "fbData['Close'].plot()\n",
    "plt.show()"
   ]
  },
  {
   "cell_type": "code",
   "execution_count": null,
   "id": "112a6e95-7e78-454e-b890-d5cd0fdb944c",
   "metadata": {},
   "outputs": [],
   "source": [
    "plt.figure(figsize=(5, 5))\n",
    "#plot the close price of 2016 of Microsoft\n",
    "ms_2016['Close']"
   ]
  }
 ],
 "metadata": {
  "kernelspec": {
   "display_name": "Python 3 (ipykernel)",
   "language": "python",
   "name": "python3"
  },
  "language_info": {
   "codemirror_mode": {
    "name": "ipython",
    "version": 3
   },
   "file_extension": ".py",
   "mimetype": "text/x-python",
   "name": "python",
   "nbconvert_exporter": "python",
   "pygments_lexer": "ipython3",
   "version": "3.10.5"
  }
 },
 "nbformat": 4,
 "nbformat_minor": 5
}
